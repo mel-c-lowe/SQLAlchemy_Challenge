{
 "cells": [
  {
   "cell_type": "code",
   "execution_count": 1,
   "metadata": {},
   "outputs": [],
   "source": [
    "%matplotlib inline\n",
    "from matplotlib import style\n",
    "style.use('fivethirtyeight')\n",
    "import matplotlib.pyplot as plt"
   ]
  },
  {
   "cell_type": "code",
   "execution_count": 2,
   "metadata": {},
   "outputs": [],
   "source": [
    "import numpy as np\n",
    "import pandas as pd\n",
    "import datetime as dt"
   ]
  },
  {
   "cell_type": "code",
   "execution_count": 3,
   "metadata": {},
   "outputs": [],
   "source": [
    "# Reflect tables into SQLAlchemy ORM\n",
    "# Python SQL toolkit and Object Relational Mapper\n",
    "import sqlalchemy\n",
    "from sqlalchemy.ext.automap import automap_base\n",
    "from sqlalchemy.orm import Session\n",
    "from sqlalchemy import create_engine, func, desc"
   ]
  },
  {
   "cell_type": "code",
   "execution_count": 4,
   "metadata": {},
   "outputs": [],
   "source": [
    "# create engine to hawaii.sqlite\n",
    "engine = create_engine(\"sqlite:///hawaii.sqlite\")"
   ]
  },
  {
   "cell_type": "code",
   "execution_count": 5,
   "metadata": {},
   "outputs": [],
   "source": [
    "# Set up automap_base to reflect the database components\n",
    "Base = automap_base()\n",
    "Base.prepare(engine, reflect=True)"
   ]
  },
  {
   "cell_type": "code",
   "execution_count": 23,
   "metadata": {},
   "outputs": [
    {
     "data": {
      "text/plain": [
       "['measurement', 'station']"
      ]
     },
     "execution_count": 23,
     "metadata": {},
     "output_type": "execute_result"
    }
   ],
   "source": [
    "# Let's take a look at those keys and see what the heck is going on!\n",
    "Base.classes.keys()"
   ]
  },
  {
   "cell_type": "code",
   "execution_count": 24,
   "metadata": {},
   "outputs": [],
   "source": [
    "# Assign keys to classes\n",
    "Measurement = Base.classes.measurement\n",
    "Station = Base.classes.station"
   ]
  },
  {
   "cell_type": "code",
   "execution_count": 25,
   "metadata": {},
   "outputs": [],
   "source": [
    "# Start a session to query the database\n",
    "session = Session(engine)"
   ]
  },
  {
   "cell_type": "code",
   "execution_count": 26,
   "metadata": {},
   "outputs": [
    {
     "data": {
      "text/plain": [
       "{'_sa_instance_state': <sqlalchemy.orm.state.InstanceState at 0x7f7f2b5d6320>,\n",
       " 'station': 'USC00519397',\n",
       " 'tobs': 65.0,\n",
       " 'date': '2010-01-01',\n",
       " 'id': 1,\n",
       " 'prcp': 0.08}"
      ]
     },
     "execution_count": 26,
     "metadata": {},
     "output_type": "execute_result"
    }
   ],
   "source": [
    "# Let's check to see if we're talking\n",
    "\n",
    "first_row = session.query(Measurement).first()\n",
    "first_row.__dict__"
   ]
  },
  {
   "cell_type": "code",
   "execution_count": 27,
   "metadata": {},
   "outputs": [
    {
     "data": {
      "text/plain": [
       "('2017-08-23')"
      ]
     },
     "execution_count": 27,
     "metadata": {},
     "output_type": "execute_result"
    }
   ],
   "source": [
    "# Get most recent date\n",
    "most_recent = session.query(Measurement.date).order_by(Measurement.date.desc()).first()\n",
    "most_recent\n",
    "\n",
    "# Twelve months prior is 2016-08-23"
   ]
  },
  {
   "cell_type": "code",
   "execution_count": 28,
   "metadata": {},
   "outputs": [
    {
     "data": {
      "text/html": [
       "<div>\n",
       "<style scoped>\n",
       "    .dataframe tbody tr th:only-of-type {\n",
       "        vertical-align: middle;\n",
       "    }\n",
       "\n",
       "    .dataframe tbody tr th {\n",
       "        vertical-align: top;\n",
       "    }\n",
       "\n",
       "    .dataframe thead th {\n",
       "        text-align: right;\n",
       "    }\n",
       "</style>\n",
       "<table border=\"1\" class=\"dataframe\">\n",
       "  <thead>\n",
       "    <tr style=\"text-align: right;\">\n",
       "      <th></th>\n",
       "      <th>date</th>\n",
       "      <th>prcp</th>\n",
       "    </tr>\n",
       "  </thead>\n",
       "  <tbody>\n",
       "    <tr>\n",
       "      <th>0</th>\n",
       "      <td>2016-08-24</td>\n",
       "      <td>0.08</td>\n",
       "    </tr>\n",
       "    <tr>\n",
       "      <th>1</th>\n",
       "      <td>2016-08-24</td>\n",
       "      <td>2.15</td>\n",
       "    </tr>\n",
       "    <tr>\n",
       "      <th>2</th>\n",
       "      <td>2016-08-24</td>\n",
       "      <td>2.28</td>\n",
       "    </tr>\n",
       "    <tr>\n",
       "      <th>3</th>\n",
       "      <td>2016-08-24</td>\n",
       "      <td>NaN</td>\n",
       "    </tr>\n",
       "    <tr>\n",
       "      <th>4</th>\n",
       "      <td>2016-08-24</td>\n",
       "      <td>1.22</td>\n",
       "    </tr>\n",
       "    <tr>\n",
       "      <th>...</th>\n",
       "      <td>...</td>\n",
       "      <td>...</td>\n",
       "    </tr>\n",
       "    <tr>\n",
       "      <th>2218</th>\n",
       "      <td>2017-08-22</td>\n",
       "      <td>0.50</td>\n",
       "    </tr>\n",
       "    <tr>\n",
       "      <th>2219</th>\n",
       "      <td>2017-08-23</td>\n",
       "      <td>0.00</td>\n",
       "    </tr>\n",
       "    <tr>\n",
       "      <th>2220</th>\n",
       "      <td>2017-08-23</td>\n",
       "      <td>0.00</td>\n",
       "    </tr>\n",
       "    <tr>\n",
       "      <th>2221</th>\n",
       "      <td>2017-08-23</td>\n",
       "      <td>0.08</td>\n",
       "    </tr>\n",
       "    <tr>\n",
       "      <th>2222</th>\n",
       "      <td>2017-08-23</td>\n",
       "      <td>0.45</td>\n",
       "    </tr>\n",
       "  </tbody>\n",
       "</table>\n",
       "<p>2223 rows × 2 columns</p>\n",
       "</div>"
      ],
      "text/plain": [
       "            date  prcp\n",
       "0     2016-08-24  0.08\n",
       "1     2016-08-24  2.15\n",
       "2     2016-08-24  2.28\n",
       "3     2016-08-24   NaN\n",
       "4     2016-08-24  1.22\n",
       "...          ...   ...\n",
       "2218  2017-08-22  0.50\n",
       "2219  2017-08-23  0.00\n",
       "2220  2017-08-23  0.00\n",
       "2221  2017-08-23  0.08\n",
       "2222  2017-08-23  0.45\n",
       "\n",
       "[2223 rows x 2 columns]"
      ]
     },
     "execution_count": 28,
     "metadata": {},
     "output_type": "execute_result"
    }
   ],
   "source": [
    "# Gather data for latest 12 months of prcp data in database\n",
    "working_data = session.query(Measurement.date, Measurement.prcp).\\\n",
    "                filter(Measurement.date > '2016-08-23').order_by(Measurement.date).all()\n",
    "working_data\n",
    "\n",
    "# Load data into dataframe\n",
    "prcp_data = pd.DataFrame(working_data)\n",
    "prcp_data"
   ]
  },
  {
   "cell_type": "code",
   "execution_count": 29,
   "metadata": {},
   "outputs": [],
   "source": [
    "# Prep the data to be plotted and plot\n",
    "\n",
    "date = prcp_data['date'].unique()\n",
    "date_full = prcp_data['date']\n",
    "\n",
    "precipitation = prcp_data['prcp']\n"
   ]
  },
  {
   "cell_type": "code",
   "execution_count": 13,
   "metadata": {},
   "outputs": [
    {
     "data": {
      "image/png": "[encoded data removed]",
      "text/plain": [
       "<Figure size 720x720 with 1 Axes>"
      ]
     },
     "metadata": {},
     "output_type": "display_data"
    }
   ],
   "source": [
    "# Something is not right with the x_axis labels and ticks\n",
    "\n",
    "plt.figure(figsize=(10, 10))\n",
    "y_axis = precipitation\n",
    "x_axis = np.arange(len(date_full))\n",
    "\n",
    "plt.bar(x_axis, y_axis, color=\"green\")\n",
    "plt.ylabel(\"Precipitation, Inches\", fontsize=12)\n",
    "plt.xlabel(\"Date\", fontsize=12)\n",
    "plt.title(\"Precipitation in Inches over Time\", fontsize=15)\n",
    "\n",
    "tick_locations = [value for value in x_axis]\n",
    "plt.xticks(tick_locations, date, rotation=\"45\", fontsize=12)\n",
    "\n",
    "plt.show()"
   ]
  },
  {
   "cell_type": "code",
   "execution_count": 30,
   "metadata": {},
   "outputs": [
    {
     "data": {
      "text/html": [
       "<div>\n",
       "<style scoped>\n",
       "    .dataframe tbody tr th:only-of-type {\n",
       "        vertical-align: middle;\n",
       "    }\n",
       "\n",
       "    .dataframe tbody tr th {\n",
       "        vertical-align: top;\n",
       "    }\n",
       "\n",
       "    .dataframe thead th {\n",
       "        text-align: right;\n",
       "    }\n",
       "</style>\n",
       "<table border=\"1\" class=\"dataframe\">\n",
       "  <thead>\n",
       "    <tr style=\"text-align: right;\">\n",
       "      <th></th>\n",
       "      <th>prcp</th>\n",
       "    </tr>\n",
       "  </thead>\n",
       "  <tbody>\n",
       "    <tr>\n",
       "      <th>count</th>\n",
       "      <td>2015.000000</td>\n",
       "    </tr>\n",
       "    <tr>\n",
       "      <th>mean</th>\n",
       "      <td>0.176462</td>\n",
       "    </tr>\n",
       "    <tr>\n",
       "      <th>std</th>\n",
       "      <td>0.460288</td>\n",
       "    </tr>\n",
       "    <tr>\n",
       "      <th>min</th>\n",
       "      <td>0.000000</td>\n",
       "    </tr>\n",
       "    <tr>\n",
       "      <th>25%</th>\n",
       "      <td>0.000000</td>\n",
       "    </tr>\n",
       "    <tr>\n",
       "      <th>50%</th>\n",
       "      <td>0.020000</td>\n",
       "    </tr>\n",
       "    <tr>\n",
       "      <th>75%</th>\n",
       "      <td>0.130000</td>\n",
       "    </tr>\n",
       "    <tr>\n",
       "      <th>max</th>\n",
       "      <td>6.700000</td>\n",
       "    </tr>\n",
       "  </tbody>\n",
       "</table>\n",
       "</div>"
      ],
      "text/plain": [
       "              prcp\n",
       "count  2015.000000\n",
       "mean      0.176462\n",
       "std       0.460288\n",
       "min       0.000000\n",
       "25%       0.000000\n",
       "50%       0.020000\n",
       "75%       0.130000\n",
       "max       6.700000"
      ]
     },
     "execution_count": 30,
     "metadata": {},
     "output_type": "execute_result"
    }
   ],
   "source": [
    "# Get summary statistics for datafram\n",
    "prcp_data.describe()"
   ]
  },
  {
   "cell_type": "markdown",
   "metadata": {},
   "source": [
    "# Station Analysis"
   ]
  },
  {
   "cell_type": "code",
   "execution_count": 31,
   "metadata": {},
   "outputs": [
    {
     "data": {
      "text/html": [
       "<div>\n",
       "<style scoped>\n",
       "    .dataframe tbody tr th:only-of-type {\n",
       "        vertical-align: middle;\n",
       "    }\n",
       "\n",
       "    .dataframe tbody tr th {\n",
       "        vertical-align: top;\n",
       "    }\n",
       "\n",
       "    .dataframe thead th {\n",
       "        text-align: right;\n",
       "    }\n",
       "</style>\n",
       "<table border=\"1\" class=\"dataframe\">\n",
       "  <thead>\n",
       "    <tr style=\"text-align: right;\">\n",
       "      <th></th>\n",
       "      <th>elevation</th>\n",
       "      <th>latitude</th>\n",
       "      <th>station</th>\n",
       "      <th>longitude</th>\n",
       "      <th>name</th>\n",
       "      <th>id</th>\n",
       "    </tr>\n",
       "  </thead>\n",
       "  <tbody>\n",
       "    <tr>\n",
       "      <th>0</th>\n",
       "      <td>3.0</td>\n",
       "      <td>21.27160</td>\n",
       "      <td>USC00519397</td>\n",
       "      <td>-157.81680</td>\n",
       "      <td>WAIKIKI 717.2, HI US</td>\n",
       "      <td>1</td>\n",
       "    </tr>\n",
       "    <tr>\n",
       "      <th>1</th>\n",
       "      <td>14.6</td>\n",
       "      <td>21.42340</td>\n",
       "      <td>USC00513117</td>\n",
       "      <td>-157.80150</td>\n",
       "      <td>KANEOHE 838.1, HI US</td>\n",
       "      <td>2</td>\n",
       "    </tr>\n",
       "    <tr>\n",
       "      <th>2</th>\n",
       "      <td>7.0</td>\n",
       "      <td>21.52130</td>\n",
       "      <td>USC00514830</td>\n",
       "      <td>-157.83740</td>\n",
       "      <td>KUALOA RANCH HEADQUARTERS 886.9, HI US</td>\n",
       "      <td>3</td>\n",
       "    </tr>\n",
       "    <tr>\n",
       "      <th>3</th>\n",
       "      <td>11.9</td>\n",
       "      <td>21.39340</td>\n",
       "      <td>USC00517948</td>\n",
       "      <td>-157.97510</td>\n",
       "      <td>PEARL CITY, HI US</td>\n",
       "      <td>4</td>\n",
       "    </tr>\n",
       "    <tr>\n",
       "      <th>4</th>\n",
       "      <td>306.6</td>\n",
       "      <td>21.49920</td>\n",
       "      <td>USC00518838</td>\n",
       "      <td>-158.01110</td>\n",
       "      <td>UPPER WAHIAWA 874.3, HI US</td>\n",
       "      <td>5</td>\n",
       "    </tr>\n",
       "    <tr>\n",
       "      <th>5</th>\n",
       "      <td>19.5</td>\n",
       "      <td>21.33556</td>\n",
       "      <td>USC00519523</td>\n",
       "      <td>-157.71139</td>\n",
       "      <td>WAIMANALO EXPERIMENTAL FARM, HI US</td>\n",
       "      <td>6</td>\n",
       "    </tr>\n",
       "    <tr>\n",
       "      <th>6</th>\n",
       "      <td>32.9</td>\n",
       "      <td>21.45167</td>\n",
       "      <td>USC00519281</td>\n",
       "      <td>-157.84889</td>\n",
       "      <td>WAIHEE 837.5, HI US</td>\n",
       "      <td>7</td>\n",
       "    </tr>\n",
       "    <tr>\n",
       "      <th>7</th>\n",
       "      <td>0.9</td>\n",
       "      <td>21.31520</td>\n",
       "      <td>USC00511918</td>\n",
       "      <td>-157.99920</td>\n",
       "      <td>HONOLULU OBSERVATORY 702.2, HI US</td>\n",
       "      <td>8</td>\n",
       "    </tr>\n",
       "    <tr>\n",
       "      <th>8</th>\n",
       "      <td>152.4</td>\n",
       "      <td>21.33310</td>\n",
       "      <td>USC00516128</td>\n",
       "      <td>-157.80250</td>\n",
       "      <td>MANOA LYON ARBO 785.2, HI US</td>\n",
       "      <td>9</td>\n",
       "    </tr>\n",
       "  </tbody>\n",
       "</table>\n",
       "</div>"
      ],
      "text/plain": [
       "   elevation  latitude      station  longitude  \\\n",
       "0        3.0  21.27160  USC00519397 -157.81680   \n",
       "1       14.6  21.42340  USC00513117 -157.80150   \n",
       "2        7.0  21.52130  USC00514830 -157.83740   \n",
       "3       11.9  21.39340  USC00517948 -157.97510   \n",
       "4      306.6  21.49920  USC00518838 -158.01110   \n",
       "5       19.5  21.33556  USC00519523 -157.71139   \n",
       "6       32.9  21.45167  USC00519281 -157.84889   \n",
       "7        0.9  21.31520  USC00511918 -157.99920   \n",
       "8      152.4  21.33310  USC00516128 -157.80250   \n",
       "\n",
       "                                     name  id  \n",
       "0                    WAIKIKI 717.2, HI US   1  \n",
       "1                    KANEOHE 838.1, HI US   2  \n",
       "2  KUALOA RANCH HEADQUARTERS 886.9, HI US   3  \n",
       "3                       PEARL CITY, HI US   4  \n",
       "4              UPPER WAHIAWA 874.3, HI US   5  \n",
       "5      WAIMANALO EXPERIMENTAL FARM, HI US   6  \n",
       "6                     WAIHEE 837.5, HI US   7  \n",
       "7       HONOLULU OBSERVATORY 702.2, HI US   8  \n",
       "8            MANOA LYON ARBO 785.2, HI US   9  "
      ]
     },
     "execution_count": 31,
     "metadata": {},
     "output_type": "execute_result"
    }
   ],
   "source": [
    "# Set up reference to talk to Station table\n",
    "first_row = session.query(Station).first()\n",
    "first_row.__dict__\n",
    "\n",
    "station_data = session.query(Station.elevation, Station.latitude,\\\n",
    "                            Station.station, Station.longitude,\\\n",
    "                            Station.name, Station.id)\n",
    "\n",
    "station_data = pd.DataFrame(station_data)\n",
    "station_data"
   ]
  },
  {
   "cell_type": "code",
   "execution_count": 32,
   "metadata": {},
   "outputs": [
    {
     "data": {
      "text/plain": [
       "9"
      ]
     },
     "execution_count": 32,
     "metadata": {},
     "output_type": "execute_result"
    }
   ],
   "source": [
    "# How many stations are there?\n",
    "station_id = session.query(Station.station).count()\n",
    "station_id"
   ]
  },
  {
   "cell_type": "code",
   "execution_count": 33,
   "metadata": {},
   "outputs": [
    {
     "data": {
      "text/plain": [
       "'USC00519281'"
      ]
     },
     "execution_count": 33,
     "metadata": {},
     "output_type": "execute_result"
    }
   ],
   "source": [
    "# Station Activity\n",
    "\n",
    "max_station = session.query(func.count(Measurement.tobs), Measurement.station).\\\n",
    "                group_by(Measurement.station).\\\n",
    "                order_by(desc(func.count(Measurement.tobs))).all()\n",
    "max_station = max_station[0][1]\n",
    "max_station\n",
    "\n",
    "# Station USC00519281 has the highest count of observations, WAIHEE 837.5, HI US"
   ]
  },
  {
   "cell_type": "code",
   "execution_count": 34,
   "metadata": {},
   "outputs": [],
   "source": [
    "# Lowest, highest, average temp from max_station\n",
    "\n",
    "highest = session.query(func.max(Measurement.tobs)).\\\n",
    "                    filter(Measurement.station == max_station).all()\n",
    "highest = highest[0][0]\n",
    "\n",
    "lowest = session.query(func.min(Measurement.tobs)).\\\n",
    "                    filter(Measurement.station == max_station).all()\n",
    "lowest = lowest[0][0]\n",
    "\n",
    "mean = session.query(func.avg(Measurement.tobs)).\\\n",
    "        filter(Measurement.station == max_station).all()\n",
    "mean = mean[0][0]"
   ]
  },
  {
   "cell_type": "code",
   "execution_count": 35,
   "metadata": {},
   "outputs": [
    {
     "data": {
      "text/html": [
       "<div>\n",
       "<style scoped>\n",
       "    .dataframe tbody tr th:only-of-type {\n",
       "        vertical-align: middle;\n",
       "    }\n",
       "\n",
       "    .dataframe tbody tr th {\n",
       "        vertical-align: top;\n",
       "    }\n",
       "\n",
       "    .dataframe thead th {\n",
       "        text-align: right;\n",
       "    }\n",
       "</style>\n",
       "<table border=\"1\" class=\"dataframe\">\n",
       "  <thead>\n",
       "    <tr style=\"text-align: right;\">\n",
       "      <th></th>\n",
       "      <th>Station</th>\n",
       "      <th>Highest</th>\n",
       "      <th>Lowest</th>\n",
       "      <th>Average</th>\n",
       "    </tr>\n",
       "  </thead>\n",
       "  <tbody>\n",
       "    <tr>\n",
       "      <th>0</th>\n",
       "      <td>USC00519281</td>\n",
       "      <td>85.0</td>\n",
       "      <td>54.0</td>\n",
       "      <td>71.663781</td>\n",
       "    </tr>\n",
       "  </tbody>\n",
       "</table>\n",
       "</div>"
      ],
      "text/plain": [
       "       Station  Highest  Lowest    Average\n",
       "0  USC00519281     85.0    54.0  71.663781"
      ]
     },
     "execution_count": 35,
     "metadata": {},
     "output_type": "execute_result"
    }
   ],
   "source": [
    "waihee_sum = pd.DataFrame({\n",
    "    \"Station\": [max_station],\n",
    "    \"Highest\": [highest],\n",
    "    \"Lowest\": [lowest],\n",
    "    \"Average\": [mean]\n",
    "})\n",
    "\n",
    "waihee_sum"
   ]
  },
  {
   "cell_type": "code",
   "execution_count": 40,
   "metadata": {},
   "outputs": [
    {
     "name": "stdout",
     "output_type": "stream",
     "text": [
      "2016-08-03\n"
     ]
    }
   ],
   "source": [
    "# Ok, trying tobs again but with func\n",
    "\n",
    "most_recent = session.query(Measurement.date).order_by(Measurement.date.desc()).first()\n",
    "most_recent # 2017-08-03\n",
    "query_date = dt.date(2017, 8, 3) - dt.timedelta(days=365)\n",
    "print(query_date)"
   ]
  },
  {
   "cell_type": "code",
   "execution_count": 37,
   "metadata": {},
   "outputs": [
    {
     "data": {
      "text/html": [
       "<div>\n",
       "<style scoped>\n",
       "    .dataframe tbody tr th:only-of-type {\n",
       "        vertical-align: middle;\n",
       "    }\n",
       "\n",
       "    .dataframe tbody tr th {\n",
       "        vertical-align: top;\n",
       "    }\n",
       "\n",
       "    .dataframe thead th {\n",
       "        text-align: right;\n",
       "    }\n",
       "</style>\n",
       "<table border=\"1\" class=\"dataframe\">\n",
       "  <thead>\n",
       "    <tr style=\"text-align: right;\">\n",
       "      <th></th>\n",
       "      <th>station</th>\n",
       "      <th>date</th>\n",
       "      <th>tobs</th>\n",
       "    </tr>\n",
       "  </thead>\n",
       "  <tbody>\n",
       "    <tr>\n",
       "      <th>0</th>\n",
       "      <td>USC00519281</td>\n",
       "      <td>2016-08-03</td>\n",
       "      <td>77.0</td>\n",
       "    </tr>\n",
       "    <tr>\n",
       "      <th>1</th>\n",
       "      <td>USC00519281</td>\n",
       "      <td>2016-08-04</td>\n",
       "      <td>77.0</td>\n",
       "    </tr>\n",
       "    <tr>\n",
       "      <th>2</th>\n",
       "      <td>USC00519281</td>\n",
       "      <td>2016-08-05</td>\n",
       "      <td>81.0</td>\n",
       "    </tr>\n",
       "    <tr>\n",
       "      <th>3</th>\n",
       "      <td>USC00519281</td>\n",
       "      <td>2016-08-06</td>\n",
       "      <td>78.0</td>\n",
       "    </tr>\n",
       "    <tr>\n",
       "      <th>4</th>\n",
       "      <td>USC00519281</td>\n",
       "      <td>2016-08-07</td>\n",
       "      <td>78.0</td>\n",
       "    </tr>\n",
       "    <tr>\n",
       "      <th>...</th>\n",
       "      <td>...</td>\n",
       "      <td>...</td>\n",
       "      <td>...</td>\n",
       "    </tr>\n",
       "    <tr>\n",
       "      <th>367</th>\n",
       "      <td>USC00519281</td>\n",
       "      <td>2017-08-14</td>\n",
       "      <td>77.0</td>\n",
       "    </tr>\n",
       "    <tr>\n",
       "      <th>368</th>\n",
       "      <td>USC00519281</td>\n",
       "      <td>2017-08-15</td>\n",
       "      <td>77.0</td>\n",
       "    </tr>\n",
       "    <tr>\n",
       "      <th>369</th>\n",
       "      <td>USC00519281</td>\n",
       "      <td>2017-08-16</td>\n",
       "      <td>76.0</td>\n",
       "    </tr>\n",
       "    <tr>\n",
       "      <th>370</th>\n",
       "      <td>USC00519281</td>\n",
       "      <td>2017-08-17</td>\n",
       "      <td>76.0</td>\n",
       "    </tr>\n",
       "    <tr>\n",
       "      <th>371</th>\n",
       "      <td>USC00519281</td>\n",
       "      <td>2017-08-18</td>\n",
       "      <td>79.0</td>\n",
       "    </tr>\n",
       "  </tbody>\n",
       "</table>\n",
       "<p>372 rows × 3 columns</p>\n",
       "</div>"
      ],
      "text/plain": [
       "         station        date  tobs\n",
       "0    USC00519281  2016-08-03  77.0\n",
       "1    USC00519281  2016-08-04  77.0\n",
       "2    USC00519281  2016-08-05  81.0\n",
       "3    USC00519281  2016-08-06  78.0\n",
       "4    USC00519281  2016-08-07  78.0\n",
       "..           ...         ...   ...\n",
       "367  USC00519281  2017-08-14  77.0\n",
       "368  USC00519281  2017-08-15  77.0\n",
       "369  USC00519281  2017-08-16  76.0\n",
       "370  USC00519281  2017-08-17  76.0\n",
       "371  USC00519281  2017-08-18  79.0\n",
       "\n",
       "[372 rows x 3 columns]"
      ]
     },
     "execution_count": 37,
     "metadata": {},
     "output_type": "execute_result"
    }
   ],
   "source": [
    "# Ok, query_date set as variable. Let's set up a query\n",
    "\n",
    "tobs_data = session.query(Measurement.station, Measurement.date, Measurement.tobs).\\\n",
    "            filter(Measurement.date >= query_date).\\\n",
    "            filter(Measurement.station == max_station).all()\n",
    "tobs_data = pd.DataFrame(tobs_data)\n",
    "tobs_data"
   ]
  },
  {
   "cell_type": "code",
   "execution_count": 38,
   "metadata": {},
   "outputs": [
    {
     "data": {
      "image/png": "[encoded data removed]",
      "text/plain": [
       "<Figure size 720x648 with 1 Axes>"
      ]
     },
     "metadata": {},
     "output_type": "display_data"
    }
   ],
   "source": [
    "x = tobs_data['tobs']\n",
    "station_max = plt.figure(figsize = (10, 9))\n",
    "plt.hist(x, bins=12, color=\"green\")\n",
    "plt.xlabel(\"Temperature\", fontsize=14)\n",
    "plt.ylabel(\"Frequency\", fontsize=14)\n",
    "plt.title(\"Histogram of Temperature\", fontsize=18)\n",
    "plt.show()"
   ]
  },
  {
   "cell_type": "code",
   "execution_count": 51,
   "metadata": {},
   "outputs": [
    {
     "data": {
      "text/plain": [
       "[(56.0, 87.0, 74.48725212464589)]"
      ]
     },
     "execution_count": 51,
     "metadata": {},
     "output_type": "execute_result"
    }
   ],
   "source": [
    "# Testing code for <start> and <start>/<end>\n",
    "# Get some basic results with a test date of 2015-03-09\n",
    "\n",
    "start = \"2015-03-09\"\n",
    "\n",
    "results = session.query(func.min(Measurement.tobs), func.max(Measurement.tobs), func.avg(Measurement.tobs)).\\\n",
    "            filter(Measurement.date >= start).\\\n",
    "            order_by(Measurement.date.desc()).all()\n",
    "\n",
    "results"
   ]
  },
  {
   "cell_type": "code",
   "execution_count": null,
   "metadata": {},
   "outputs": [],
   "source": []
  },
  {
   "cell_type": "code",
   "execution_count": null,
   "metadata": {},
   "outputs": [],
   "source": []
  },
  {
   "cell_type": "code",
   "execution_count": null,
   "metadata": {},
   "outputs": [],
   "source": []
  },
  {
   "cell_type": "code",
   "execution_count": null,
   "metadata": {},
   "outputs": [],
   "source": []
  },
  {
   "cell_type": "code",
   "execution_count": null,
   "metadata": {},
   "outputs": [],
   "source": [
    "session.close()"
   ]
  },
  {
   "cell_type": "code",
   "execution_count": null,
   "metadata": {},
   "outputs": [],
   "source": [
    "'station': 'USC00519397',\n",
    " 'tobs': 65.0,\n",
    " 'date': '2010-01-01',\n",
    " 'id': 1,\n",
    " 'prcp': 0.08}"
   ]
  },
  {
   "cell_type": "code",
   "execution_count": null,
   "metadata": {},
   "outputs": [],
   "source": [
    "# Station Activity\n",
    "# Not sure this is what they mean? But it works\n",
    "\n",
    "station_count = session.query(Measurement.station, Measurement.tobs)\n",
    "station_count = pd.DataFrame(station_count).groupby('station').count()\n",
    "station_count = station_count.sort_values(by='tobs', ascending=False)\n",
    "station_count\n",
    "\n",
    "# Station USC00519281 has the highest count of observations, WAIHEE 837.5, HI US"
   ]
  },
  {
   "cell_type": "code",
   "execution_count": null,
   "metadata": {
    "scrolled": true
   },
   "outputs": [],
   "source": [
    "# OLD VERSION\n",
    "\n",
    "# Gather data for latest 12 months of tobs data in database\n",
    "working_data = session.query(Measurement.station, Measurement.date,  Measurement.tobs).\\\n",
    "                filter(Measurement.date > '2016-08-23', Measurement.station == 'USC00519281').\\\n",
    "                order_by(Measurement.date).all()\n",
    "working_data\n",
    "\n",
    "# Highest count is station USC00519281\n",
    "\n",
    "# Load data into dataframe\n",
    "tobs_data = pd.DataFrame(working_data)\n",
    "tobs_data"
   ]
  },
  {
   "cell_type": "code",
   "execution_count": null,
   "metadata": {},
   "outputs": [],
   "source": [
    "# Plot station USC00519281 data\n",
    "\n",
    "x = tobs_data['tobs']\n",
    "waihee_hist = plt.figure(figsize = (10, 9))\n",
    "plt.hist(x, bins=12, color=\"green\")\n",
    "plt.xlabel(\"Temperature\", fontsize=14)\n",
    "plt.ylabel(\"Frequency\", fontsize=14)\n",
    "plt.title(\"Histogram of Temperature\", fontsize=18)\n",
    "plt.show()"
   ]
  },
  {
   "cell_type": "code",
   "execution_count": null,
   "metadata": {},
   "outputs": [],
   "source": [
    "# Old news\n",
    "# Lowest, highest, and average temp with station USC00519281, 7\n",
    "# Redo to get values out via query\n",
    "\n",
    "waihee = session.query(Measurement.station, Measurement.tobs,\\\n",
    "                           Measurement.date, Measurement.id, Measurement.prcp)\n",
    "waihee = pd.DataFrame(waihee)\n",
    "waihee = waihee.loc[waihee[\"station\"] == 'USC00519281']\n",
    "waihee\n",
    "lowest = waihee[\"tobs\"].min()\n",
    "highest = waihee[\"tobs\"].max()\n",
    "mean = waihee[\"tobs\"].mean()\n",
    "station = \"Waihee\""
   ]
  }
 ],
 "metadata": {
  "kernelspec": {
   "display_name": "Python 3",
   "language": "python",
   "name": "python3"
  },
  "language_info": {
   "codemirror_mode": {
    "name": "ipython",
    "version": 3
   },
   "file_extension": ".py",
   "mimetype": "text/x-python",
   "name": "python",
   "nbconvert_exporter": "python",
   "pygments_lexer": "ipython3",
   "version": "3.6.10"
  }
 },
 "nbformat": 4,
 "nbformat_minor": 4
}
