{
 "cells": [
  {
   "cell_type": "code",
   "execution_count": null,
   "metadata": {},
   "outputs": [],
   "source": [
    "# Temp Analysis I\n",
    "# Get all temp data (tobs)\n",
    "\n",
    "all_temp = session.query(Measurement.date, Measurement.tobs).\\\n",
    "            order_by(Measurement.date.desc()).all()\n",
    "all_temp = pd.DataFrame(all_temp)\n",
    "all_temp.set_index(pd.DatetimeIndex(all_temp['date'])) \n",
    "all_temp = all_temp.set_index(\"date\", drop=True)\n",
    "all_temp\n",
    "\n",
    "# june = all_temp[all_temp.index.month == 6]['date']\n",
    "# june"
   ]
  }
 ],
 "metadata": {
  "kernelspec": {
   "display_name": "Python 3",
   "language": "python",
   "name": "python3"
  },
  "language_info": {
   "codemirror_mode": {
    "name": "ipython",
    "version": 3
   },
   "file_extension": ".py",
   "mimetype": "text/x-python",
   "name": "python",
   "nbconvert_exporter": "python",
   "pygments_lexer": "ipython3",
   "version": "3.6.10"
  }
 },
 "nbformat": 4,
 "nbformat_minor": 4
}
